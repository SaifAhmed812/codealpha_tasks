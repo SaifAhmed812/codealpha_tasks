{
 "cells": [
  {
   "cell_type": "code",
   "execution_count": 5,
   "metadata": {},
   "outputs": [],
   "source": [
    "import pandas as pd\n",
    "from sklearn.model_selection import train_test_split\n",
    "from sklearn.preprocessing import StandardScaler, MinMaxScaler\n",
    "import numpy as np"
   ]
  },
  {
   "cell_type": "code",
   "execution_count": 6,
   "metadata": {},
   "outputs": [],
   "source": [
    "\n",
    "# Load your dataset\n",
    "# df = pd.read_csv('your_dataset.csv')\n",
    "\n",
    "# Sample data\n",
    "data = {\n",
    "    'feature1': [1, 2, np.nan, 4, 5, 6, 7, 8, 9, 10],\n",
    "    'feature2': [1.5, 2.5, 3.5, np.nan, 5.5, 6.5, 7.5, 8.5, 9.5, 10.5],\n",
    "    'feature3': [10, 20, 30, 40, 50, 60, 70, 80, 90, 100],\n",
    "    'target': [0, 1, 0, 1, 0, 1, 0, 1, 0, 1]\n",
    "}\n",
    "df = pd.DataFrame(data)"
   ]
  },
  {
   "cell_type": "markdown",
   "metadata": {},
   "source": [
    "## Task 1: Data Preprocessing"
   ]
  },
  {
   "cell_type": "code",
   "execution_count": 7,
   "metadata": {},
   "outputs": [],
   "source": [
    "## Handle missing values\n",
    "df.fillna(df.median(), inplace=True)  # Filling missing values with median\n",
    "\n",
    "## Handle outliers (example using IQR method)\n",
    "Q1 = df.quantile(0.25)\n",
    "Q3 = df.quantile(0.75)\n",
    "IQR = Q3 - Q1\n",
    "df = df[~((df < (Q1 - 1.5 * IQR)) | (df > (Q3 + 1.5 * IQR))).any(axis=1)]\n",
    "\n",
    "## Normalize or scale features\n",
    "scaler = StandardScaler()\n",
    "scaled_features = scaler.fit_transform(df.drop('target', axis=1))\n",
    "df_scaled = pd.DataFrame(scaled_features, columns=df.columns[:-1])\n",
    "df_scaled['target'] = df['target'].values\n",
    "\n",
    "## Split the data into training and testing sets\n",
    "X = df_scaled.drop('target', axis=1)\n",
    "y = df_scaled['target']\n",
    "X_train, X_test, y_train, y_test = train_test_split(X, y, test_size=0.2, random_state=42)\n",
    "\n"
   ]
  },
  {
   "cell_type": "markdown",
   "metadata": {},
   "source": [
    "## Task 2: Feature Engineering"
   ]
  },
  {
   "cell_type": "code",
   "execution_count": 8,
   "metadata": {},
   "outputs": [
    {
     "name": "stdout",
     "output_type": "stream",
     "text": [
      "Training Features:\n",
      "    feature1  feature2  feature3  feature1_feature2_ratio  \\\n",
      "5  0.072739  0.106000  0.174078                 0.686221   \n",
      "0 -1.745743 -1.660663 -1.566699                 1.051232   \n",
      "7  0.800132  0.812665  0.870388                 0.984578   \n",
      "2  0.072739 -0.953998 -0.870388                -0.076247   \n",
      "9  1.527525  1.519330  1.566699                 1.005394   \n",
      "\n",
      "   feature1_rolling_mean  \n",
      "5               0.027277  \n",
      "0               0.027277  \n",
      "7              -0.290957  \n",
      "2              -0.290957  \n",
      "9               0.800132  \n",
      "Testing Features:\n",
      "    feature1  feature2  feature3  feature1_feature2_ratio  \\\n",
      "8  1.163829  1.165998  1.218544                 0.998140   \n",
      "1 -1.382047 -1.307331 -1.218544                 1.057152   \n",
      "\n",
      "   feature1_rolling_mean  \n",
      "8              -0.109109  \n",
      "1              -0.109109  \n"
     ]
    },
    {
     "name": "stderr",
     "output_type": "stream",
     "text": [
      "E:\\anaconda\\lib\\site-packages\\ipykernel_launcher.py:2: SettingWithCopyWarning: \n",
      "A value is trying to be set on a copy of a slice from a DataFrame.\n",
      "Try using .loc[row_indexer,col_indexer] = value instead\n",
      "\n",
      "See the caveats in the documentation: https://pandas.pydata.org/pandas-docs/stable/user_guide/indexing.html#returning-a-view-versus-a-copy\n",
      "  \n",
      "E:\\anaconda\\lib\\site-packages\\ipykernel_launcher.py:3: SettingWithCopyWarning: \n",
      "A value is trying to be set on a copy of a slice from a DataFrame.\n",
      "Try using .loc[row_indexer,col_indexer] = value instead\n",
      "\n",
      "See the caveats in the documentation: https://pandas.pydata.org/pandas-docs/stable/user_guide/indexing.html#returning-a-view-versus-a-copy\n",
      "  This is separate from the ipykernel package so we can avoid doing imports until\n",
      "E:\\anaconda\\lib\\site-packages\\ipykernel_launcher.py:12: SettingWithCopyWarning: \n",
      "A value is trying to be set on a copy of a slice from a DataFrame.\n",
      "Try using .loc[row_indexer,col_indexer] = value instead\n",
      "\n",
      "See the caveats in the documentation: https://pandas.pydata.org/pandas-docs/stable/user_guide/indexing.html#returning-a-view-versus-a-copy\n",
      "  if sys.path[0] == '':\n",
      "E:\\anaconda\\lib\\site-packages\\ipykernel_launcher.py:13: SettingWithCopyWarning: \n",
      "A value is trying to be set on a copy of a slice from a DataFrame.\n",
      "Try using .loc[row_indexer,col_indexer] = value instead\n",
      "\n",
      "See the caveats in the documentation: https://pandas.pydata.org/pandas-docs/stable/user_guide/indexing.html#returning-a-view-versus-a-copy\n",
      "  del sys.path[0]\n"
     ]
    }
   ],
   "source": [
    "## Creating additional features\n",
    "X_train['feature1_feature2_ratio'] = X_train['feature1'] / (X_train['feature2'] + 1e-9)\n",
    "X_test['feature1_feature2_ratio'] = X_test['feature1'] / (X_test['feature2'] + 1e-9)\n",
    "\n",
    "## Consider time-based features, rolling statistics, and other transformations\n",
    "# For this example, we assume a 'date' column for time-based features\n",
    "# df['date'] = pd.date_range(start='1/1/2020', periods=len(df), freq='D')\n",
    "# df['month'] = df['date'].dt.month\n",
    "# df['rolling_mean'] = df['feature1'].rolling(window=3).mean()\n",
    "\n",
    "# Example adding rolling statistics\n",
    "X_train['feature1_rolling_mean'] = X_train['feature1'].rolling(window=3).mean().fillna(X_train['feature1'].mean())\n",
    "X_test['feature1_rolling_mean'] = X_test['feature1'].rolling(window=3).mean().fillna(X_test['feature1'].mean())\n",
    "\n",
    "print(\"Training Features:\\n\", X_train.head())\n",
    "print(\"Testing Features:\\n\", X_test.head())"
   ]
  },
  {
   "cell_type": "code",
   "execution_count": null,
   "metadata": {},
   "outputs": [],
   "source": []
  }
 ],
 "metadata": {
  "kernelspec": {
   "display_name": "Python 3",
   "language": "python",
   "name": "python3"
  },
  "language_info": {
   "codemirror_mode": {
    "name": "ipython",
    "version": 3
   },
   "file_extension": ".py",
   "mimetype": "text/x-python",
   "name": "python",
   "nbconvert_exporter": "python",
   "pygments_lexer": "ipython3",
   "version": "3.7.6"
  }
 },
 "nbformat": 4,
 "nbformat_minor": 4
}
