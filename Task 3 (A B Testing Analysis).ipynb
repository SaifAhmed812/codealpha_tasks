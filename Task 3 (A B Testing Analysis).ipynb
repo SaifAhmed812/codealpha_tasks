{
 "cells": [
  {
   "cell_type": "code",
   "execution_count": 4,
   "metadata": {},
   "outputs": [],
   "source": [
    "import pandas as pd\n",
    "import numpy as np\n",
    "from scipy import stats"
   ]
  },
  {
   "cell_type": "code",
   "execution_count": 3,
   "metadata": {},
   "outputs": [
    {
     "name": "stdout",
     "output_type": "stream",
     "text": [
      "Conversion rates:\n",
      " group\n",
      "A    0.13\n",
      "B    0.18\n",
      "Name: conversion, dtype: float64\n",
      "T-statistic: -0.9743547036924459\n",
      "P-value: 0.33106931988439714\n",
      "Fail to reject the null hypothesis. There is no statistically significant effect on the conversion rate.\n"
     ]
    }
   ],
   "source": [
    "# Example data\n",
    "data = {\n",
    "    'group': ['A']*100 + ['B']*100,\n",
    "    'conversion': np.random.binomial(1, 0.1, 100).tolist() + np.random.binomial(1, 0.15, 100).tolist()\n",
    "}\n",
    "\n",
    "df = pd.DataFrame(data)\n",
    "\n",
    "# Calculate conversion rates\n",
    "conversion_rates = df.groupby('group')['conversion'].mean()\n",
    "print(\"Conversion rates:\\n\", conversion_rates)\n",
    "\n",
    "# Perform a t-test\n",
    "group_a = df[df['group'] == 'A']['conversion']\n",
    "group_b = df[df['group'] == 'B']['conversion']\n",
    "\n",
    "t_stat, p_value = stats.ttest_ind(group_a, group_b)\n",
    "\n",
    "print(f\"T-statistic: {t_stat}\")\n",
    "print(f\"P-value: {p_value}\")\n",
    "\n",
    "# Interpret results\n",
    "alpha = 0.05\n",
    "if p_value < alpha:\n",
    "    print(\"Reject the null hypothesis. The new design has a statistically significant effect on the conversion rate.\")\n",
    "else:\n",
    "    print(\"Fail to reject the null hypothesis. There is no statistically significant effect on the conversion rate.\")\n"
   ]
  },
  {
   "cell_type": "code",
   "execution_count": null,
   "metadata": {},
   "outputs": [],
   "source": []
  }
 ],
 "metadata": {
  "kernelspec": {
   "display_name": "Python 3",
   "language": "python",
   "name": "python3"
  },
  "language_info": {
   "codemirror_mode": {
    "name": "ipython",
    "version": 3
   },
   "file_extension": ".py",
   "mimetype": "text/x-python",
   "name": "python",
   "nbconvert_exporter": "python",
   "pygments_lexer": "ipython3",
   "version": "3.7.6"
  }
 },
 "nbformat": 4,
 "nbformat_minor": 4
}
